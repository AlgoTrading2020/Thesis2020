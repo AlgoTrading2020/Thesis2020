{
 "cells": [
  {
   "cell_type": "code",
   "execution_count": 20,
   "metadata": {},
   "outputs": [],
   "source": [
    "#Import\n",
    "import pandas as pd\n",
    "from sklearn.feature_extraction.text import TfidfVectorizer\n",
    "from sklearn.model_selection import train_test_split\n",
    "from sklearn.metrics import accuracy_score, confusion_matrix, classification_report\n",
    "from sklearn.linear_model import LogisticRegression\n",
    "from joblib import load\n",
    "import numpy as np\n",
    "import matplotlib.pyplot as plt\n",
    "\n"
   ]
  },
  {
   "cell_type": "markdown",
   "metadata": {},
   "source": [
    "# Load data"
   ]
  },
  {
   "cell_type": "code",
   "execution_count": null,
   "metadata": {},
   "outputs": [],
   "source": [
    "\n",
    "def read_data():\n",
    "    df = pd.read_json('./0.5percent_threshold_20100101-20191231.json')\n",
    "    return df\n",
    "\n",
    "df = read_data()\n",
    "X = df.text\n",
    "y = df.alpha_label\n",
    "\n",
    "X_train, X_test, y_train, y_test = train_test_split(X, y, random_state=0, test_size=0.2, stratify=y)\n",
    "\n",
    "tfidf = load('./tfidf_05dataset.joblib')\n",
    "X_transformed = tfidf.transform(X)\n",
    "\n",
    "logreg = load('./logreg_05dataset.joblib')\n",
    "X_test_transformed = tfidf.transform(X_test)\n",
    "\n",
    "logreg = load('./logreg_05dataset.joblib')\n",
    "y_pred_proba = logreg.predict_proba(X_test_transformed)\n",
    "\n",
    "probabilities = pd.DataFrame(y_pred_proba, columns=['Down','Stable','Up'])"
   ]
  },
  {
   "cell_type": "markdown",
   "metadata": {},
   "source": [
    "# Calculate mean precision of 'Up' and 'Down'"
   ]
  },
  {
   "cell_type": "code",
   "execution_count": 25,
   "metadata": {},
   "outputs": [
    {
     "name": "stderr",
     "output_type": "stream",
     "text": [
      "/opt/anaconda3/lib/python3.7/site-packages/ipykernel_launcher.py:9: RuntimeWarning: invalid value encountered in long_scalars\n",
      "  if __name__ == '__main__':\n",
      "/opt/anaconda3/lib/python3.7/site-packages/ipykernel_launcher.py:10: RuntimeWarning: invalid value encountered in long_scalars\n",
      "  # Remove the CWD from sys.path while we load stuff.\n"
     ]
    }
   ],
   "source": [
    "mean_precisions = []\n",
    "actions = []\n",
    "thresholds = [percent/100 for percent in range(0,101,1)]\n",
    "    \n",
    "for threshold in thresholds:\n",
    "    probabilities = predict(threshold, probabilities)\n",
    "    y_pred = probabilities.predicted\n",
    "\n",
    "    precision_down = confusion_matrix(y_pred, y_test)[0][0]/np.sum(confusion_matrix(y_pred, y_test)[0])\n",
    "    precision_up = confusion_matrix(y_pred, y_test)[2][2]/np.sum(confusion_matrix(y_pred, y_test)[2])\n",
    "    mean_precision = (precision_up+precision_down)/2\n",
    "    mean_precisions.append(mean_precision)\n",
    "    action = (np.sum(confusion_matrix(y_pred, y_test)[0])+np.sum(confusion_matrix(y_pred, y_test)[2]))/np.sum(confusion_matrix(y_pred, y_test))\n",
    "    actions.append(action)\n",
    "    \n",
    "output = pd.DataFrame({'threshold':thresholds, 'actions':actions, 'mean_precision':mean_precisions})\n",
    "output.to_csv('mean_precisions.csv', index=False, header=True)"
   ]
  },
  {
   "cell_type": "markdown",
   "metadata": {},
   "source": [
    "# Visualize the probability threshold"
   ]
  },
  {
   "cell_type": "code",
   "execution_count": 45,
   "metadata": {},
   "outputs": [
    {
     "data": {
      "image/png": "[encoded data removed]",
      "text/plain": [
       "<Figure size 432x288 with 2 Axes>"
      ]
     },
     "metadata": {
      "needs_background": "light"
     },
     "output_type": "display_data"
    }
   ],
   "source": [
    "#Visualize already generated probability thresholds\n",
    "mean_precisions_data=pd.read_csv('mean_precisions.csv')\n",
    "mean_precisions_data = mean_precisions_data[33:82]\n",
    "thresholds = mean_precisions_data.threshold\n",
    "mean_precisions=mean_precisions_data.mean_precision\n",
    "actions = mean_precisions_data.actions\n",
    "\n",
    "fig, ax1 = plt.subplots()\n",
    "\n",
    "color = 'tab:red'\n",
    "ax1.set_ylabel('Mean Precision of Up and Down predictions', color=color)\n",
    "ax1.plot(thresholds, mean_precisions, color=color, label='Actions in percent of dataset')\n",
    "ax1.set_xlabel('Classification Threshold')\n",
    "ax1.tick_params(axis='y', labelcolor=color)\n",
    "\n",
    "ax2 = ax1.twinx()\n",
    "\n",
    "color = 'tab:blue'\n",
    "ax2.set_ylabel('Actions in percent of dataset', color=color)\n",
    "ax2.plot(thresholds, actions, color=color)#, label='Actions in percent of dataset')\n",
    "ax2.tick_params(axis='y', labelcolor=color)\n",
    "\n",
    "plt.savefig('./mean_precisions')\n",
    "plt.show()"
   ]
  },
  {
   "cell_type": "code",
   "execution_count": 22,
   "metadata": {},
   "outputs": [
    {
     "name": "stdout",
     "output_type": "stream",
     "text": [
      "[[551 950 487]\n",
      " [225 911 240]\n",
      " [392 998 615]]\n",
      "              precision    recall  f1-score   support\n",
      "\n",
      "        Down       0.47      0.28      0.35      1988\n",
      "      Stable       0.32      0.66      0.43      1376\n",
      "          Up       0.46      0.31      0.37      2005\n",
      "\n",
      "    accuracy                           0.39      5369\n",
      "   macro avg       0.42      0.42      0.38      5369\n",
      "weighted avg       0.43      0.39      0.38      5369\n",
      "\n",
      "Accuracy: 0.38685043769789534\n",
      "Mean Precision: 0.4650089061511137\n"
     ]
    }
   ],
   "source": [
    "#Test new thresholds\n",
    "\n",
    "def predict(threshold, probabilities):\n",
    "    for row in range(len(probabilities)):\n",
    "        if probabilities.iloc[row].Stable > probabilities.iloc[row].Down and probabilities.iloc[row].Stable > probabilities.iloc[row].Up:\n",
    "            probabilities.loc[row, 'predicted'] = 'Stable'\n",
    "        \n",
    "        elif probabilities.iloc[row].Down>threshold and probabilities.iloc[row].Down>probabilities.iloc[row].Up:\n",
    "            probabilities.loc[row, 'predicted'] = 'Down'\n",
    "            \n",
    "        elif probabilities.iloc[row].Up>threshold and probabilities.iloc[row].Up>probabilities.iloc[row].Down:\n",
    "            probabilities.loc[row, 'predicted'] = 'Up'\n",
    "            \n",
    "        else:\n",
    "            probabilities.loc[row, 'predicted'] = 'Stable'\n",
    "    \n",
    "    return probabilities\n",
    "\n",
    "\n",
    "threshold=0.45\n",
    "probabilities = predict(threshold, probabilities)\n",
    "y_pred = probabilities.predicted\n",
    "\n",
    "print(confusion_matrix(y_pred = y_pred, y_true = y_test))\n",
    "print(classification_report(y_true = y_test, y_pred = y_pred))\n",
    "print('Accuracy:', accuracy_score(y_test, y_pred))\n",
    "\n",
    "precision_down = confusion_matrix(y_pred, y_test)[0][0]/np.sum(confusion_matrix(y_pred, y_test)[0])\n",
    "precision_up = confusion_matrix(y_pred, y_test)[2][2]/np.sum(confusion_matrix(y_pred, y_test)[2])\n",
    "mean_precision = (precision_up+precision_down)/2\n",
    "\n",
    "print('Mean Precision:', mean_precision)"
   ]
  },
  {
   "cell_type": "code",
   "execution_count": 93,
   "metadata": {},
   "outputs": [
    {
     "name": "stdout",
     "output_type": "stream",
     "text": [
      "631\n",
      "0.11752654125535482\n",
      "74.15924753212889\n"
     ]
    }
   ],
   "source": [
    "labels = pd.DataFrame()\n",
    "count = pd.DataFrame()\n",
    "labels['Labels'] = probabilities.predicted\n",
    "count = labels.apply(pd.value_counts)\n",
    "counter = count.loc['Up', 'Labels'] + count.loc['Down', 'Labels']\n",
    "print(counter)\n",
    "percent = counter/len(labels.index)\n",
    "print(percent)\n",
    "estimation = counter * percent\n",
    "print(estimation)"
   ]
  },
  {
   "cell_type": "code",
   "execution_count": null,
   "metadata": {},
   "outputs": [],
   "source": []
  }
 ],
 "metadata": {
  "kernelspec": {
   "display_name": "Python 3",
   "language": "python",
   "name": "python3"
  },
  "language_info": {
   "codemirror_mode": {
    "name": "ipython",
    "version": 3
   },
   "file_extension": ".py",
   "mimetype": "text/x-python",
   "name": "python",
   "nbconvert_exporter": "python",
   "pygments_lexer": "ipython3",
   "version": "3.7.4"
  }
 },
 "nbformat": 4,
 "nbformat_minor": 2
}
