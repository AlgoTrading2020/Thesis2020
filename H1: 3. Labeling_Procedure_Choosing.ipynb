{
 "cells": [
  {
   "cell_type": "code",
   "execution_count": 1,
   "metadata": {},
   "outputs": [],
   "source": [
    "import pandas as pd\n",
    "from sklearn.feature_extraction.text import TfidfVectorizer\n",
    "from sklearn.model_selection import GridSearchCV, train_test_split\n",
    "from sklearn.pipeline import Pipeline\n",
    "from sklearn.metrics import accuracy_score, confusion_matrix, classification_report\n",
    "from sklearn.linear_model import LogisticRegression\n",
    "\n",
    "def read_data():\n",
    "    df05 = pd.read_json(r'C:\\Users\\Fredrik\\Documents\\Datasets_uppsats\\0.5percent_threshold_20100101-20191231.json')\n",
    "    df10 = pd.read_json(r'C:\\Users\\Fredrik\\Documents\\Datasets_uppsats\\1.0percent_threshold_20100101-20191231.json')\n",
    "    df15 = pd.read_json(r'C:\\Users\\Fredrik\\Documents\\Datasets_uppsats\\1.5percent_threshold_20100101-20191231.json')\n",
    "    df20 = pd.read_json(r'C:\\Users\\Fredrik\\Documents\\Datasets_uppsats\\2.0percent_threshold_20100101-20191231.json')\n",
    "    df25 = pd.read_json(r'C:\\Users\\Fredrik\\Documents\\Datasets_uppsats\\2.5percent_threshold_20100101-20191231.json')\n",
    "    df30 = pd.read_json(r'C:\\Users\\Fredrik\\Documents\\Datasets_uppsats\\3.0percent_threshold_20100101-20191231.json')\n",
    "    df35 = pd.read_json(r'C:\\Users\\Fredrik\\Documents\\Datasets_uppsats\\3.5percent_threshold_20100101-20191231.json')\n",
    "    df40 = pd.read_json(r'C:\\Users\\Fredrik\\Documents\\Datasets_uppsats\\4.0percent_threshold_20100101-20191231.json')\n",
    "    df45 = pd.read_json(r'C:\\Users\\Fredrik\\Documents\\Datasets_uppsats\\4.5percent_threshold_20100101-20191231.json')\n",
    "    return df05,df10,df15,df20,df25,df30,df35,df40,df45\n",
    "\n",
    "datasets = list(read_data())"
   ]
  },
  {
   "cell_type": "code",
   "execution_count": 2,
   "metadata": {},
   "outputs": [
    {
     "name": "stderr",
     "output_type": "stream",
     "text": [
      "C:\\Users\\Fredrik\\Anaconda3\\lib\\site-packages\\sklearn\\linear_model\\logistic.py:432: FutureWarning: Default solver will be changed to 'lbfgs' in 0.22. Specify a solver to silence this warning.\n",
      "  FutureWarning)\n",
      "C:\\Users\\Fredrik\\Anaconda3\\lib\\site-packages\\sklearn\\linear_model\\logistic.py:469: FutureWarning: Default multi_class will be changed to 'auto' in 0.22. Specify the multi_class option to silence this warning.\n",
      "  \"this warning.\", FutureWarning)\n"
     ]
    },
    {
     "name": "stdout",
     "output_type": "stream",
     "text": [
      "df5\n",
      "Best cross-validation accuracy: 0.4193833830104322\n",
      "Up        0.392651\n",
      "Down      0.373230\n",
      "Stable    0.234119\n",
      "Name: PM_label, dtype: float64\n",
      "Difference between accuracy and baseline:  0.026732488822652778\n",
      " \n"
     ]
    },
    {
     "name": "stderr",
     "output_type": "stream",
     "text": [
      "C:\\Users\\Fredrik\\Anaconda3\\lib\\site-packages\\sklearn\\linear_model\\logistic.py:432: FutureWarning: Default solver will be changed to 'lbfgs' in 0.22. Specify a solver to silence this warning.\n",
      "  FutureWarning)\n",
      "C:\\Users\\Fredrik\\Anaconda3\\lib\\site-packages\\sklearn\\linear_model\\logistic.py:469: FutureWarning: Default multi_class will be changed to 'auto' in 0.22. Specify the multi_class option to silence this warning.\n",
      "  \"this warning.\", FutureWarning)\n"
     ]
    },
    {
     "name": "stdout",
     "output_type": "stream",
     "text": [
      "df10\n",
      "Best cross-validation accuracy: 0.4524962742175857\n",
      "Stable    0.407135\n",
      "Up        0.306306\n",
      "Down      0.286559\n",
      "Name: PM_label, dtype: float64\n",
      "Difference between accuracy and baseline:  0.045361400894187776\n",
      " \n"
     ]
    },
    {
     "name": "stderr",
     "output_type": "stream",
     "text": [
      "C:\\Users\\Fredrik\\Anaconda3\\lib\\site-packages\\sklearn\\linear_model\\logistic.py:432: FutureWarning: Default solver will be changed to 'lbfgs' in 0.22. Specify a solver to silence this warning.\n",
      "  FutureWarning)\n",
      "C:\\Users\\Fredrik\\Anaconda3\\lib\\site-packages\\sklearn\\linear_model\\logistic.py:469: FutureWarning: Default multi_class will be changed to 'auto' in 0.22. Specify the multi_class option to silence this warning.\n",
      "  \"this warning.\", FutureWarning)\n"
     ]
    },
    {
     "name": "stdout",
     "output_type": "stream",
     "text": [
      "df15\n",
      "Best cross-validation accuracy: 0.5611028315946349\n",
      "Stable    0.542986\n",
      "Up        0.237938\n",
      "Down      0.219076\n",
      "Name: PM_label, dtype: float64\n",
      "Difference between accuracy and baseline:  0.018116616989567902\n",
      " \n"
     ]
    },
    {
     "name": "stderr",
     "output_type": "stream",
     "text": [
      "C:\\Users\\Fredrik\\Anaconda3\\lib\\site-packages\\sklearn\\linear_model\\logistic.py:432: FutureWarning: Default solver will be changed to 'lbfgs' in 0.22. Specify a solver to silence this warning.\n",
      "  FutureWarning)\n",
      "C:\\Users\\Fredrik\\Anaconda3\\lib\\site-packages\\sklearn\\linear_model\\logistic.py:469: FutureWarning: Default multi_class will be changed to 'auto' in 0.22. Specify the multi_class option to silence this warning.\n",
      "  \"this warning.\", FutureWarning)\n"
     ]
    },
    {
     "name": "stdout",
     "output_type": "stream",
     "text": [
      "df20\n",
      "Best cross-validation accuracy: 0.6514064828614009\n",
      "Stable    0.645073\n",
      "Up        0.184985\n",
      "Down      0.169942\n",
      "Name: PM_label, dtype: float64\n",
      "Difference between accuracy and baseline:  0.006333830104321869\n",
      " \n"
     ]
    },
    {
     "name": "stderr",
     "output_type": "stream",
     "text": [
      "C:\\Users\\Fredrik\\Anaconda3\\lib\\site-packages\\sklearn\\linear_model\\logistic.py:432: FutureWarning: Default solver will be changed to 'lbfgs' in 0.22. Specify a solver to silence this warning.\n",
      "  FutureWarning)\n",
      "C:\\Users\\Fredrik\\Anaconda3\\lib\\site-packages\\sklearn\\linear_model\\logistic.py:469: FutureWarning: Default multi_class will be changed to 'auto' in 0.22. Specify the multi_class option to silence this warning.\n",
      "  \"this warning.\", FutureWarning)\n"
     ]
    },
    {
     "name": "stdout",
     "output_type": "stream",
     "text": [
      "df25\n",
      "Best cross-validation accuracy: 0.7228017883755589\n",
      "Stable    0.720380\n",
      "Up        0.146516\n",
      "Down      0.133104\n",
      "Name: PM_label, dtype: float64\n",
      "Difference between accuracy and baseline:  0.0024217585692994925\n",
      " \n"
     ]
    },
    {
     "name": "stderr",
     "output_type": "stream",
     "text": [
      "C:\\Users\\Fredrik\\Anaconda3\\lib\\site-packages\\sklearn\\linear_model\\logistic.py:432: FutureWarning: Default solver will be changed to 'lbfgs' in 0.22. Specify a solver to silence this warning.\n",
      "  FutureWarning)\n",
      "C:\\Users\\Fredrik\\Anaconda3\\lib\\site-packages\\sklearn\\linear_model\\logistic.py:469: FutureWarning: Default multi_class will be changed to 'auto' in 0.22. Specify the multi_class option to silence this warning.\n",
      "  \"this warning.\", FutureWarning)\n"
     ]
    },
    {
     "name": "stdout",
     "output_type": "stream",
     "text": [
      "df30\n",
      "Best cross-validation accuracy: 0.775521609538003\n",
      "Stable    0.774776\n",
      "Up        0.120482\n",
      "Down      0.104741\n",
      "Name: PM_label, dtype: float64\n",
      "Difference between accuracy and baseline:  0.0007451564828614421\n",
      " \n"
     ]
    },
    {
     "name": "stderr",
     "output_type": "stream",
     "text": [
      "C:\\Users\\Fredrik\\Anaconda3\\lib\\site-packages\\sklearn\\linear_model\\logistic.py:432: FutureWarning: Default solver will be changed to 'lbfgs' in 0.22. Specify a solver to silence this warning.\n",
      "  FutureWarning)\n",
      "C:\\Users\\Fredrik\\Anaconda3\\lib\\site-packages\\sklearn\\linear_model\\logistic.py:469: FutureWarning: Default multi_class will be changed to 'auto' in 0.22. Specify the multi_class option to silence this warning.\n",
      "  \"this warning.\", FutureWarning)\n"
     ]
    },
    {
     "name": "stdout",
     "output_type": "stream",
     "text": [
      "df35\n",
      "Best cross-validation accuracy: 0.8151546199701938\n",
      "Stable    0.815015\n",
      "Up        0.099944\n",
      "Down      0.085041\n",
      "Name: PM_label, dtype: float64\n",
      "Difference between accuracy and baseline:  0.00013971684053659672\n",
      " \n"
     ]
    },
    {
     "name": "stderr",
     "output_type": "stream",
     "text": [
      "C:\\Users\\Fredrik\\Anaconda3\\lib\\site-packages\\sklearn\\linear_model\\logistic.py:432: FutureWarning: Default solver will be changed to 'lbfgs' in 0.22. Specify a solver to silence this warning.\n",
      "  FutureWarning)\n",
      "C:\\Users\\Fredrik\\Anaconda3\\lib\\site-packages\\sklearn\\linear_model\\logistic.py:469: FutureWarning: Default multi_class will be changed to 'auto' in 0.22. Specify the multi_class option to silence this warning.\n",
      "  \"this warning.\", FutureWarning)\n"
     ]
    },
    {
     "name": "stdout",
     "output_type": "stream",
     "text": [
      "df40\n",
      "Best cross-validation accuracy: 0.8472429210134128\n",
      "Stable    0.847243\n",
      "Up        0.082992\n",
      "Down      0.069765\n",
      "Name: PM_label, dtype: float64\n",
      "Difference between accuracy and baseline:  0.0\n",
      " \n"
     ]
    },
    {
     "name": "stderr",
     "output_type": "stream",
     "text": [
      "C:\\Users\\Fredrik\\Anaconda3\\lib\\site-packages\\sklearn\\linear_model\\logistic.py:432: FutureWarning: Default solver will be changed to 'lbfgs' in 0.22. Specify a solver to silence this warning.\n",
      "  FutureWarning)\n",
      "C:\\Users\\Fredrik\\Anaconda3\\lib\\site-packages\\sklearn\\linear_model\\logistic.py:469: FutureWarning: Default multi_class will be changed to 'auto' in 0.22. Specify the multi_class option to silence this warning.\n",
      "  \"this warning.\", FutureWarning)\n"
     ]
    },
    {
     "name": "stdout",
     "output_type": "stream",
     "text": [
      "df45\n",
      "Best cross-validation accuracy: 0.8736494038748137\n",
      "Stable    0.873696\n",
      "Up        0.069486\n",
      "Down      0.056818\n",
      "Name: PM_label, dtype: float64\n",
      "Difference between accuracy and baseline:  -4.657228017879156e-05\n",
      " \n"
     ]
    }
   ],
   "source": [
    "def PM(datasets):\n",
    "    count=0\n",
    "    for dataset in datasets:\n",
    "        count+=5\n",
    "        X = dataset.text\n",
    "        y = dataset.PM_label\n",
    "        X_train, X_test, y_train, y_test = train_test_split(X, y, stratify = y, test_size = 0.2, random_state = 0)\n",
    "\n",
    "        params = {'clf__random_state':[0]}\n",
    "\n",
    "        #TfidfVectorizer (1) vectorizes and computes TF, (2) computes IDF and (3) computes TFIDF for each word.\n",
    "        pipe = Pipeline([('tfidf', TfidfVectorizer()),\n",
    "                         ('clf', LogisticRegression()),\n",
    "                        ])\n",
    "        \n",
    "        grid = GridSearchCV(pipe, params, cv=5, n_jobs=-1)\n",
    "        grid.fit(X_train, y_train)\n",
    "        \n",
    "        print('df'+str(count))\n",
    "        print('Best cross-validation accuracy: %s' % grid.best_score_)\n",
    "        \n",
    "        print(y_train.value_counts(' '))\n",
    "        \n",
    "        difference = grid.best_score_ - y_train.value_counts(' ')[0]\n",
    "        print('Difference between accuracy and baseline: ', difference)\n",
    "        print(' ')\n",
    "\n",
    "PM(datasets)"
   ]
  },
  {
   "cell_type": "code",
   "execution_count": 4,
   "metadata": {
    "scrolled": true
   },
   "outputs": [
    {
     "name": "stderr",
     "output_type": "stream",
     "text": [
      "C:\\Users\\Fredrik\\Anaconda3\\lib\\site-packages\\sklearn\\linear_model\\logistic.py:432: FutureWarning: Default solver will be changed to 'lbfgs' in 0.22. Specify a solver to silence this warning.\n",
      "  FutureWarning)\n",
      "C:\\Users\\Fredrik\\Anaconda3\\lib\\site-packages\\sklearn\\linear_model\\logistic.py:469: FutureWarning: Default multi_class will be changed to 'auto' in 0.22. Specify the multi_class option to silence this warning.\n",
      "  \"this warning.\", FutureWarning)\n"
     ]
    },
    {
     "name": "stdout",
     "output_type": "stream",
     "text": [
      "df5\n",
      "Best cross-validation accuracy: 0.4289772727272727\n",
      "Down      0.383243\n",
      "Up        0.378074\n",
      "Stable    0.238683\n",
      "Name: PM_index_adjusted_label, dtype: float64\n",
      "Difference between accuracy and baseline:  0.04573397913561844\n",
      " \n"
     ]
    },
    {
     "name": "stderr",
     "output_type": "stream",
     "text": [
      "C:\\Users\\Fredrik\\Anaconda3\\lib\\site-packages\\sklearn\\linear_model\\logistic.py:432: FutureWarning: Default solver will be changed to 'lbfgs' in 0.22. Specify a solver to silence this warning.\n",
      "  FutureWarning)\n",
      "C:\\Users\\Fredrik\\Anaconda3\\lib\\site-packages\\sklearn\\linear_model\\logistic.py:469: FutureWarning: Default multi_class will be changed to 'auto' in 0.22. Specify the multi_class option to silence this warning.\n",
      "  \"this warning.\", FutureWarning)\n"
     ]
    },
    {
     "name": "stdout",
     "output_type": "stream",
     "text": [
      "df10\n",
      "Best cross-validation accuracy: 0.4702868852459016\n",
      "Stable    0.426556\n",
      "Down      0.287211\n",
      "Up        0.286233\n",
      "Name: PM_index_adjusted_label, dtype: float64\n",
      "Difference between accuracy and baseline:  0.04373137108792846\n",
      " \n"
     ]
    },
    {
     "name": "stderr",
     "output_type": "stream",
     "text": [
      "C:\\Users\\Fredrik\\Anaconda3\\lib\\site-packages\\sklearn\\linear_model\\logistic.py:432: FutureWarning: Default solver will be changed to 'lbfgs' in 0.22. Specify a solver to silence this warning.\n",
      "  FutureWarning)\n",
      "C:\\Users\\Fredrik\\Anaconda3\\lib\\site-packages\\sklearn\\linear_model\\logistic.py:469: FutureWarning: Default multi_class will be changed to 'auto' in 0.22. Specify the multi_class option to silence this warning.\n",
      "  \"this warning.\", FutureWarning)\n"
     ]
    },
    {
     "name": "stdout",
     "output_type": "stream",
     "text": [
      "df15\n",
      "Best cross-validation accuracy: 0.5813617734724292\n",
      "Stable    0.567064\n",
      "Up        0.218191\n",
      "Down      0.214745\n",
      "Name: PM_index_adjusted_label, dtype: float64\n",
      "Difference between accuracy and baseline:  0.014297690014903108\n",
      " \n"
     ]
    },
    {
     "name": "stderr",
     "output_type": "stream",
     "text": [
      "C:\\Users\\Fredrik\\Anaconda3\\lib\\site-packages\\sklearn\\linear_model\\logistic.py:432: FutureWarning: Default solver will be changed to 'lbfgs' in 0.22. Specify a solver to silence this warning.\n",
      "  FutureWarning)\n",
      "C:\\Users\\Fredrik\\Anaconda3\\lib\\site-packages\\sklearn\\linear_model\\logistic.py:469: FutureWarning: Default multi_class will be changed to 'auto' in 0.22. Specify the multi_class option to silence this warning.\n",
      "  \"this warning.\", FutureWarning)\n"
     ]
    },
    {
     "name": "stdout",
     "output_type": "stream",
     "text": [
      "df20\n",
      "Best cross-validation accuracy: 0.6660301788375559\n",
      "Stable    0.661513\n",
      "Up        0.171153\n",
      "Down      0.167334\n",
      "Name: PM_index_adjusted_label, dtype: float64\n",
      "Difference between accuracy and baseline:  0.004517511177347222\n",
      " \n"
     ]
    },
    {
     "name": "stderr",
     "output_type": "stream",
     "text": [
      "C:\\Users\\Fredrik\\Anaconda3\\lib\\site-packages\\sklearn\\linear_model\\logistic.py:432: FutureWarning: Default solver will be changed to 'lbfgs' in 0.22. Specify a solver to silence this warning.\n",
      "  FutureWarning)\n",
      "C:\\Users\\Fredrik\\Anaconda3\\lib\\site-packages\\sklearn\\linear_model\\logistic.py:469: FutureWarning: Default multi_class will be changed to 'auto' in 0.22. Specify the multi_class option to silence this warning.\n",
      "  \"this warning.\", FutureWarning)\n"
     ]
    },
    {
     "name": "stdout",
     "output_type": "stream",
     "text": [
      "df25\n",
      "Best cross-validation accuracy: 0.7317436661698957\n",
      "Stable    0.730952\n",
      "Up        0.137575\n",
      "Down      0.131474\n",
      "Name: PM_index_adjusted_label, dtype: float64\n",
      "Difference between accuracy and baseline:  0.0007917287630402337\n",
      " \n"
     ]
    },
    {
     "name": "stderr",
     "output_type": "stream",
     "text": [
      "C:\\Users\\Fredrik\\Anaconda3\\lib\\site-packages\\sklearn\\linear_model\\logistic.py:432: FutureWarning: Default solver will be changed to 'lbfgs' in 0.22. Specify a solver to silence this warning.\n",
      "  FutureWarning)\n",
      "C:\\Users\\Fredrik\\Anaconda3\\lib\\site-packages\\sklearn\\linear_model\\logistic.py:469: FutureWarning: Default multi_class will be changed to 'auto' in 0.22. Specify the multi_class option to silence this warning.\n",
      "  \"this warning.\", FutureWarning)\n"
     ]
    },
    {
     "name": "stdout",
     "output_type": "stream",
     "text": [
      "df30\n",
      "Best cross-validation accuracy: 0.7827403129657228\n",
      "Stable    0.781250\n",
      "Up        0.113543\n",
      "Down      0.105207\n",
      "Name: PM_index_adjusted_label, dtype: float64\n",
      "Difference between accuracy and baseline:  0.0014903129657227732\n",
      " \n"
     ]
    },
    {
     "name": "stderr",
     "output_type": "stream",
     "text": [
      "C:\\Users\\Fredrik\\Anaconda3\\lib\\site-packages\\sklearn\\linear_model\\logistic.py:432: FutureWarning: Default solver will be changed to 'lbfgs' in 0.22. Specify a solver to silence this warning.\n",
      "  FutureWarning)\n",
      "C:\\Users\\Fredrik\\Anaconda3\\lib\\site-packages\\sklearn\\linear_model\\logistic.py:469: FutureWarning: Default multi_class will be changed to 'auto' in 0.22. Specify the multi_class option to silence this warning.\n",
      "  \"this warning.\", FutureWarning)\n"
     ]
    },
    {
     "name": "stdout",
     "output_type": "stream",
     "text": [
      "df35\n",
      "Best cross-validation accuracy: 0.8188804023845008\n",
      "Stable    0.819626\n",
      "Up        0.094821\n",
      "Down      0.085553\n",
      "Name: PM_index_adjusted_label, dtype: float64\n",
      "Difference between accuracy and baseline:  -0.0007451564828613311\n",
      " \n"
     ]
    },
    {
     "name": "stderr",
     "output_type": "stream",
     "text": [
      "C:\\Users\\Fredrik\\Anaconda3\\lib\\site-packages\\sklearn\\linear_model\\logistic.py:432: FutureWarning: Default solver will be changed to 'lbfgs' in 0.22. Specify a solver to silence this warning.\n",
      "  FutureWarning)\n",
      "C:\\Users\\Fredrik\\Anaconda3\\lib\\site-packages\\sklearn\\linear_model\\logistic.py:469: FutureWarning: Default multi_class will be changed to 'auto' in 0.22. Specify the multi_class option to silence this warning.\n",
      "  \"this warning.\", FutureWarning)\n"
     ]
    },
    {
     "name": "stdout",
     "output_type": "stream",
     "text": [
      "df40\n",
      "Best cross-validation accuracy: 0.84975782414307\n",
      "Stable    0.850084\n",
      "Up        0.078521\n",
      "Down      0.071395\n",
      "Name: PM_index_adjusted_label, dtype: float64\n",
      "Difference between accuracy and baseline:  -0.000326005961251874\n",
      " \n"
     ]
    },
    {
     "name": "stderr",
     "output_type": "stream",
     "text": [
      "C:\\Users\\Fredrik\\Anaconda3\\lib\\site-packages\\sklearn\\linear_model\\logistic.py:432: FutureWarning: Default solver will be changed to 'lbfgs' in 0.22. Specify a solver to silence this warning.\n",
      "  FutureWarning)\n",
      "C:\\Users\\Fredrik\\Anaconda3\\lib\\site-packages\\sklearn\\linear_model\\logistic.py:469: FutureWarning: Default multi_class will be changed to 'auto' in 0.22. Specify the multi_class option to silence this warning.\n",
      "  \"this warning.\", FutureWarning)\n"
     ]
    },
    {
     "name": "stdout",
     "output_type": "stream",
     "text": [
      "df45\n",
      "Best cross-validation accuracy: 0.8737425484351714\n",
      "Stable    0.873882\n",
      "Up        0.066645\n",
      "Down      0.059473\n",
      "Name: PM_index_adjusted_label, dtype: float64\n",
      "Difference between accuracy and baseline:  -0.0001397168405364857\n",
      " \n"
     ]
    }
   ],
   "source": [
    "def PM_index_adjusted_label(datasets):\n",
    "    count=0\n",
    "    for dataset in datasets:\n",
    "        count+=5\n",
    "        X = dataset.text\n",
    "        y = dataset.PM_index_adjusted_label\n",
    "\n",
    "        X_train, X_test, y_train, y_test = train_test_split(X, y, stratify = y, test_size = 0.2, random_state = 0)\n",
    "\n",
    "        params = {'clf__random_state':[0]}\n",
    "\n",
    "        #TfidfVectorizer (1) vectorizes and computes TF, (2) computes IDF and (3) computes TFIDF for each word.\n",
    "        pipe = Pipeline([('tfidf', TfidfVectorizer()),\n",
    "                         ('clf', LogisticRegression()),\n",
    "                        ])\n",
    "        \n",
    "        grid = GridSearchCV(pipe, params, cv=5, n_jobs=-1)\n",
    "        grid.fit(X_train, y_train)\n",
    "        \n",
    "        print('df'+str(count))\n",
    "        print('Best cross-validation accuracy: %s' % grid.best_score_)\n",
    "        \n",
    "        print(y_train.value_counts(' '))\n",
    "        \n",
    "        difference = grid.best_score_ - y_train.value_counts(' ')[0]\n",
    "        print('Difference between accuracy and baseline: ', difference)\n",
    "        print(' ')\n",
    "        \n",
    "PM_index_adjusted_label(datasets)"
   ]
  },
  {
   "cell_type": "code",
   "execution_count": 3,
   "metadata": {},
   "outputs": [
    {
     "name": "stderr",
     "output_type": "stream",
     "text": [
      "C:\\Users\\Fredrik\\Anaconda3\\lib\\site-packages\\sklearn\\linear_model\\logistic.py:432: FutureWarning: Default solver will be changed to 'lbfgs' in 0.22. Specify a solver to silence this warning.\n",
      "  FutureWarning)\n",
      "C:\\Users\\Fredrik\\Anaconda3\\lib\\site-packages\\sklearn\\linear_model\\logistic.py:469: FutureWarning: Default multi_class will be changed to 'auto' in 0.22. Specify the multi_class option to silence this warning.\n",
      "  \"this warning.\", FutureWarning)\n"
     ]
    },
    {
     "name": "stdout",
     "output_type": "stream",
     "text": [
      "df5\n",
      "Best cross-validation accuracy: 0.424040611028316\n",
      "Up        0.37337\n",
      "Down      0.37025\n",
      "Stable    0.25638\n",
      "Name: alpha_label, dtype: float64\n",
      "Difference between accuracy and baseline:  0.05067064083457529\n",
      " \n"
     ]
    },
    {
     "name": "stderr",
     "output_type": "stream",
     "text": [
      "C:\\Users\\Fredrik\\Anaconda3\\lib\\site-packages\\sklearn\\linear_model\\logistic.py:432: FutureWarning: Default solver will be changed to 'lbfgs' in 0.22. Specify a solver to silence this warning.\n",
      "  FutureWarning)\n",
      "C:\\Users\\Fredrik\\Anaconda3\\lib\\site-packages\\sklearn\\linear_model\\logistic.py:469: FutureWarning: Default multi_class will be changed to 'auto' in 0.22. Specify the multi_class option to silence this warning.\n",
      "  \"this warning.\", FutureWarning)\n"
     ]
    },
    {
     "name": "stdout",
     "output_type": "stream",
     "text": [
      "df10\n",
      "Best cross-validation accuracy: 0.4907321162444113\n",
      "Stable    0.445045\n",
      "Up        0.284137\n",
      "Down      0.270818\n",
      "Name: alpha_label, dtype: float64\n",
      "Difference between accuracy and baseline:  0.04568740685543965\n",
      " \n"
     ]
    },
    {
     "name": "stderr",
     "output_type": "stream",
     "text": [
      "C:\\Users\\Fredrik\\Anaconda3\\lib\\site-packages\\sklearn\\linear_model\\logistic.py:432: FutureWarning: Default solver will be changed to 'lbfgs' in 0.22. Specify a solver to silence this warning.\n",
      "  FutureWarning)\n",
      "C:\\Users\\Fredrik\\Anaconda3\\lib\\site-packages\\sklearn\\linear_model\\logistic.py:469: FutureWarning: Default multi_class will be changed to 'auto' in 0.22. Specify the multi_class option to silence this warning.\n",
      "  \"this warning.\", FutureWarning)\n"
     ]
    },
    {
     "name": "stdout",
     "output_type": "stream",
     "text": [
      "df15\n",
      "Best cross-validation accuracy: 0.5999906855439643\n",
      "Stable    0.583318\n",
      "Up        0.214465\n",
      "Down      0.202217\n",
      "Name: alpha_label, dtype: float64\n",
      "Difference between accuracy and baseline:  0.01667287630402392\n",
      " \n"
     ]
    },
    {
     "name": "stderr",
     "output_type": "stream",
     "text": [
      "C:\\Users\\Fredrik\\Anaconda3\\lib\\site-packages\\sklearn\\linear_model\\logistic.py:432: FutureWarning: Default solver will be changed to 'lbfgs' in 0.22. Specify a solver to silence this warning.\n",
      "  FutureWarning)\n",
      "C:\\Users\\Fredrik\\Anaconda3\\lib\\site-packages\\sklearn\\linear_model\\logistic.py:469: FutureWarning: Default multi_class will be changed to 'auto' in 0.22. Specify the multi_class option to silence this warning.\n",
      "  \"this warning.\", FutureWarning)\n"
     ]
    },
    {
     "name": "stdout",
     "output_type": "stream",
     "text": [
      "df20\n",
      "Best cross-validation accuracy: 0.6802347242921013\n",
      "Stable    0.674693\n",
      "Up        0.169104\n",
      "Down      0.156203\n",
      "Name: alpha_label, dtype: float64\n",
      "Difference between accuracy and baseline:  0.0055421013412816356\n",
      " \n"
     ]
    },
    {
     "name": "stderr",
     "output_type": "stream",
     "text": [
      "C:\\Users\\Fredrik\\Anaconda3\\lib\\site-packages\\sklearn\\linear_model\\logistic.py:432: FutureWarning: Default solver will be changed to 'lbfgs' in 0.22. Specify a solver to silence this warning.\n",
      "  FutureWarning)\n",
      "C:\\Users\\Fredrik\\Anaconda3\\lib\\site-packages\\sklearn\\linear_model\\logistic.py:469: FutureWarning: Default multi_class will be changed to 'auto' in 0.22. Specify the multi_class option to silence this warning.\n",
      "  \"this warning.\", FutureWarning)\n"
     ]
    },
    {
     "name": "stdout",
     "output_type": "stream",
     "text": [
      "df25\n",
      "Best cross-validation accuracy: 0.7438058867362146\n",
      "Stable    0.741384\n",
      "Up        0.135432\n",
      "Down      0.123184\n",
      "Name: alpha_label, dtype: float64\n",
      "Difference between accuracy and baseline:  0.0024217585692996035\n",
      " \n"
     ]
    },
    {
     "name": "stderr",
     "output_type": "stream",
     "text": [
      "C:\\Users\\Fredrik\\Anaconda3\\lib\\site-packages\\sklearn\\linear_model\\logistic.py:432: FutureWarning: Default solver will be changed to 'lbfgs' in 0.22. Specify a solver to silence this warning.\n",
      "  FutureWarning)\n",
      "C:\\Users\\Fredrik\\Anaconda3\\lib\\site-packages\\sklearn\\linear_model\\logistic.py:469: FutureWarning: Default multi_class will be changed to 'auto' in 0.22. Specify the multi_class option to silence this warning.\n",
      "  \"this warning.\", FutureWarning)\n"
     ]
    },
    {
     "name": "stdout",
     "output_type": "stream",
     "text": [
      "df30\n",
      "Best cross-validation accuracy: 0.7897261549925484\n",
      "Stable    0.790052\n",
      "Up        0.110749\n",
      "Down      0.099199\n",
      "Name: alpha_label, dtype: float64\n",
      "Difference between accuracy and baseline:  -0.000326005961251874\n",
      " \n"
     ]
    },
    {
     "name": "stderr",
     "output_type": "stream",
     "text": [
      "C:\\Users\\Fredrik\\Anaconda3\\lib\\site-packages\\sklearn\\linear_model\\logistic.py:432: FutureWarning: Default solver will be changed to 'lbfgs' in 0.22. Specify a solver to silence this warning.\n",
      "  FutureWarning)\n",
      "C:\\Users\\Fredrik\\Anaconda3\\lib\\site-packages\\sklearn\\linear_model\\logistic.py:469: FutureWarning: Default multi_class will be changed to 'auto' in 0.22. Specify the multi_class option to silence this warning.\n",
      "  \"this warning.\", FutureWarning)\n"
     ]
    },
    {
     "name": "stdout",
     "output_type": "stream",
     "text": [
      "df35\n",
      "Best cross-validation accuracy: 0.8251676602086438\n",
      "Stable    0.826332\n",
      "Up        0.092725\n",
      "Down      0.080943\n",
      "Name: alpha_label, dtype: float64\n",
      "Difference between accuracy and baseline:  -0.0011643070044708992\n",
      " \n"
     ]
    },
    {
     "name": "stderr",
     "output_type": "stream",
     "text": [
      "C:\\Users\\Fredrik\\Anaconda3\\lib\\site-packages\\sklearn\\linear_model\\logistic.py:432: FutureWarning: Default solver will be changed to 'lbfgs' in 0.22. Specify a solver to silence this warning.\n",
      "  FutureWarning)\n",
      "C:\\Users\\Fredrik\\Anaconda3\\lib\\site-packages\\sklearn\\linear_model\\logistic.py:469: FutureWarning: Default multi_class will be changed to 'auto' in 0.22. Specify the multi_class option to silence this warning.\n",
      "  \"this warning.\", FutureWarning)\n"
     ]
    },
    {
     "name": "stdout",
     "output_type": "stream",
     "text": [
      "df40\n",
      "Best cross-validation accuracy: 0.854647913561848\n",
      "Stable    0.854415\n",
      "Up        0.078474\n",
      "Down      0.067111\n",
      "Name: alpha_label, dtype: float64\n",
      "Difference between accuracy and baseline:  0.00023286140089417984\n",
      " \n"
     ]
    },
    {
     "name": "stderr",
     "output_type": "stream",
     "text": [
      "C:\\Users\\Fredrik\\Anaconda3\\lib\\site-packages\\sklearn\\linear_model\\logistic.py:432: FutureWarning: Default solver will be changed to 'lbfgs' in 0.22. Specify a solver to silence this warning.\n",
      "  FutureWarning)\n",
      "C:\\Users\\Fredrik\\Anaconda3\\lib\\site-packages\\sklearn\\linear_model\\logistic.py:469: FutureWarning: Default multi_class will be changed to 'auto' in 0.22. Specify the multi_class option to silence this warning.\n",
      "  \"this warning.\", FutureWarning)\n"
     ]
    },
    {
     "name": "stdout",
     "output_type": "stream",
     "text": [
      "df45\n",
      "Best cross-validation accuracy: 0.8783066318926974\n",
      "Stable    0.878074\n",
      "Up        0.066226\n",
      "Down      0.055700\n",
      "Name: alpha_label, dtype: float64\n",
      "Difference between accuracy and baseline:  0.00023286140089417984\n",
      " \n"
     ]
    }
   ],
   "source": [
    "def alpha_label(datasets):\n",
    "    count=0\n",
    "    for dataset in datasets:\n",
    "        count+=5\n",
    "        X = dataset.text\n",
    "        y = dataset.alpha_label\n",
    "\n",
    "        X_train, X_test, y_train, y_test = train_test_split(X, y, stratify = y, test_size = 0.2, random_state = 0)\n",
    "\n",
    "        params = {'clf__random_state':[0]}\n",
    "\n",
    "        #TfidfVectorizer (1) vectorizes and computes TF, (2) computes IDF and (3) computes TFIDF for each word.\n",
    "        pipe = Pipeline([('tfidf', TfidfVectorizer()),\n",
    "                         ('clf', LogisticRegression()),\n",
    "                        ])\n",
    "        \n",
    "        grid = GridSearchCV(pipe, params, cv=5, n_jobs=-1)\n",
    "        grid.fit(X_train, y_train)\n",
    "        \n",
    "        print('df'+str(count))\n",
    "        print('Best cross-validation accuracy: %s' % grid.best_score_)\n",
    "        \n",
    "        print(y_train.value_counts(' '))\n",
    "        \n",
    "        difference = grid.best_score_ - y_train.value_counts(' ')[0]\n",
    "        print('Difference between accuracy and baseline: ', difference)\n",
    "        print(' ')\n",
    "        \n",
    "alpha_label(datasets)"
   ]
  }
 ],
 "metadata": {
  "kernelspec": {
   "display_name": "Python 3",
   "language": "python",
   "name": "python3"
  },
  "language_info": {
   "codemirror_mode": {
    "name": "ipython",
    "version": 3
   },
   "file_extension": ".py",
   "mimetype": "text/x-python",
   "name": "python",
   "nbconvert_exporter": "python",
   "pygments_lexer": "ipython3",
   "version": "3.7.3"
  }
 },
 "nbformat": 4,
 "nbformat_minor": 2
}
