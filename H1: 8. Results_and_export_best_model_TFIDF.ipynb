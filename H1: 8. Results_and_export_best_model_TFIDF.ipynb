{
 "cells": [
  {
   "cell_type": "code",
   "execution_count": 1,
   "metadata": {},
   "outputs": [],
   "source": [
    "import pandas as pd\n",
    "from sklearn.feature_extraction.text import TfidfVectorizer\n",
    "from sklearn.model_selection import train_test_split\n",
    "from sklearn.metrics import accuracy_score, confusion_matrix, classification_report\n",
    "from sklearn.linear_model import LogisticRegression\n",
    "from joblib import dump\n",
    "\n",
    "def read_data():\n",
    "    df = pd.read_json('C:/Users/Fredrik/Documents/Datasets_uppsats/0.5percent_threshold_20100101-20191231.json')\n",
    "    return df\n",
    "\n",
    "df = read_data()\n",
    "\n",
    "X = df.text\n",
    "y = df.alpha_label\n"
   ]
  },
  {
   "cell_type": "code",
   "execution_count": 2,
   "metadata": {},
   "outputs": [
    {
     "name": "stdout",
     "output_type": "stream",
     "text": [
      "[[927 242 819]\n",
      " [474 418 484]\n",
      " [715 291 999]]\n",
      "              precision    recall  f1-score   support\n",
      "\n",
      "        Down       0.44      0.47      0.45      1988\n",
      "      Stable       0.44      0.30      0.36      1376\n",
      "          Up       0.43      0.50      0.46      2005\n",
      "\n",
      "    accuracy                           0.44      5369\n",
      "   macro avg       0.44      0.42      0.42      5369\n",
      "weighted avg       0.44      0.44      0.43      5369\n",
      "\n",
      "0.4365803687837586\n"
     ]
    },
    {
     "data": {
      "text/plain": [
       "['./logreg_05dataset.joblib']"
      ]
     },
     "execution_count": 2,
     "metadata": {},
     "output_type": "execute_result"
    }
   ],
   "source": [
    "#Evaluate best model\n",
    "X_train, X_test, y_train, y_test = train_test_split(X, y, random_state=0, test_size=0.2, stratify=y)\n",
    "\n",
    "tfidf = TfidfVectorizer(analyzer='char', ngram_range = (4,9), max_df = 0.8, min_df = 1)\n",
    "X_train_transformed = tfidf.fit_transform(X_train)\n",
    "X_test_transformed = tfidf.transform(X_test)\n",
    "\n",
    "logreg = LogisticRegression(C=1, solver='saga', multi_class = 'multinomial')\n",
    "logreg = logreg.fit(X_train_transformed, y_train)\n",
    "\n",
    "y_pred = logreg.predict(X_test_transformed)\n",
    "print(confusion_matrix(y_true = y_test, y_pred = y_pred))\n",
    "print(classification_report(y_true = y_test, y_pred = y_pred))\n",
    "print(accuracy_score(y_test, y_pred))\n",
    "\n",
    "dump(tfidf, './tfidf_05dataset.joblib')\n",
    "dump(logreg, './logreg_05dataset.joblib')"
   ]
  }
 ],
 "metadata": {
  "kernelspec": {
   "display_name": "Python 3",
   "language": "python",
   "name": "python3"
  },
  "language_info": {
   "codemirror_mode": {
    "name": "ipython",
    "version": 3
   },
   "file_extension": ".py",
   "mimetype": "text/x-python",
   "name": "python",
   "nbconvert_exporter": "python",
   "pygments_lexer": "ipython3",
   "version": "3.7.3"
  }
 },
 "nbformat": 4,
 "nbformat_minor": 2
}
