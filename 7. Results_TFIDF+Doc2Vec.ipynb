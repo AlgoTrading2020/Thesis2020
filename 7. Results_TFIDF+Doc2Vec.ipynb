{
 "cells": [
  {
   "cell_type": "code",
   "execution_count": 20,
   "metadata": {},
   "outputs": [],
   "source": [
    "import pandas as pd\n",
    "\n",
    "word_lib_05 = pd.read_json('./output_cloud_cpu/word_liblinear_05dataset.json')\n",
    "word_saga_05 = pd.read_json('./output_cloud_cpu/word_saga_05dataset.json')\n",
    "char_lib_05 = pd.read_json('./output_cloud_cpu/char_liblinear_05dataset.json')\n",
    "char_saga_05 = pd.read_json('./output_cloud_cpu/char_saga_05dataset.json')\n",
    "\n",
    "d2v_pv_dbow_05_lib = pd.read_json('./output_cloud_cpu/d2v_dbow_05_lib.json')\n",
    "d2v_pv_dm_05_lib = pd.read_json('./output_cloud_cpu/d2v_dm_05_lib.json')\n",
    "d2v_pv_dm_05_saga = pd.read_json('./output_cloud_cpu/d2v_dm_05_saga.json')\n",
    "d2v_pv_dbow_05_saga = pd.read_json('./output_cloud_cpu/d2v_dbow_05_saga.json')"
   ]
  },
  {
   "cell_type": "code",
   "execution_count": 21,
   "metadata": {
    "scrolled": true
   },
   "outputs": [
    {
     "name": "stdout",
     "output_type": "stream",
     "text": [
      "{'clf__C': 1, 'clf__multi_class': 'ovr', 'clf__random_state': 42, 'clf__solver': 'liblinear', 'tfidf__analyzer': 'word', 'tfidf__max_df': 1.0, 'tfidf__min_df': 1, 'tfidf__ngram_range': [1, 3]} 0.42664831070000003 5.327831070000002\n"
     ]
    }
   ],
   "source": [
    "#TFIDF BATCH 1\n",
    "params = word_lib_05.sort_values(by='rank_test_score').iloc[0].params\n",
    "score = word_lib_05.sort_values(by='rank_test_score').iloc[0].mean_test_score\n",
    "leverage = word_lib_05.sort_values(by='rank_test_score').iloc[0].mean_test_score*100-37.337\n",
    "print(params, score, leverage)"
   ]
  },
  {
   "cell_type": "code",
   "execution_count": 22,
   "metadata": {},
   "outputs": [
    {
     "name": "stdout",
     "output_type": "stream",
     "text": [
      "{'clf__C': 1, 'clf__multi_class': 'multinomial', 'clf__random_state': 42, 'clf__solver': 'saga', 'tfidf__analyzer': 'word', 'tfidf__max_df': 0.8, 'tfidf__min_df': 1, 'tfidf__ngram_range': [1, 3]} 0.4262758713 5.290587129999999\n"
     ]
    }
   ],
   "source": [
    "#TFIDF BATCH 2\n",
    "params = word_saga_05.sort_values(by='rank_test_score').iloc[0].params\n",
    "score = word_saga_05.sort_values(by='rank_test_score').iloc[0].mean_test_score\n",
    "leverage = word_saga_05.sort_values(by='rank_test_score').iloc[0].mean_test_score*100-37.337\n",
    "print(params, score, leverage)"
   ]
  },
  {
   "cell_type": "code",
   "execution_count": 23,
   "metadata": {},
   "outputs": [
    {
     "name": "stdout",
     "output_type": "stream",
     "text": [
      "{'clf__random_state': 42, 'clf__C': 4, 'clf__multi_class': 'ovr', 'tfidf__analyzer': 'char', 'tfidf__min_df': 1, 'tfidf__ngram_range': [4, 9], 'tfidf__max_df': 1.0, 'clf__solver': 'liblinear'} 0.4277657483 5.439574829999998\n"
     ]
    }
   ],
   "source": [
    "#TFIDF BATCH 3\n",
    "params = char_lib_05.sort_values(by='rank_test_score').iloc[0].params\n",
    "score = char_lib_05.sort_values(by='rank_test_score').iloc[0].mean_test_score\n",
    "leverage = char_lib_05.sort_values(by='rank_test_score').iloc[0].mean_test_score*100-37.337\n",
    "print(params, score, leverage)"
   ]
  },
  {
   "cell_type": "code",
   "execution_count": 24,
   "metadata": {},
   "outputs": [
    {
     "name": "stdout",
     "output_type": "stream",
     "text": [
      "{'clf__multi_class': 'multinomial', 'tfidf__analyzer': 'char', 'tfidf__min_df': 1, 'tfidf__ngram_range': [4, 9], 'clf__C': 1, 'clf__solver': 'saga', 'clf__random_state': 42, 'tfidf__max_df': 0.8} 0.4286974 5.532739999999997\n"
     ]
    }
   ],
   "source": [
    "#TFIDF BATCH 4\n",
    "params = char_saga_05.sort_values(by='rank_test_score').iloc[0].params\n",
    "score = char_saga_05.sort_values(by='rank_test_score').iloc[0].mean_test_score\n",
    "leverage = char_saga_05.sort_values(by='rank_test_score').iloc[0].mean_test_score*100-37.337\n",
    "print(params, score, leverage)"
   ]
  },
  {
   "cell_type": "code",
   "execution_count": 25,
   "metadata": {},
   "outputs": [
    {
     "name": "stdout",
     "output_type": "stream",
     "text": [
      "{'d2v__seed': 42, 'd2v__workers': 16, 'd2v__dm': 0, 'clf__multi_class': 'multinomial', 'clf__random_state': 42, 'clf__n_jobs': -1, 'd2v__iter': 30, 'd2v__size': 50, 'd2v__window': 8, 'clf__C': 4, 'clf__solver': 'saga'} 0.4193835186 4.601351859999994\n"
     ]
    }
   ],
   "source": [
    "#DOC2VEC 1\n",
    "params = d2v_pv_dbow_05_saga.sort_values(by='rank_test_score').iloc[0].params\n",
    "score = d2v_pv_dbow_05_saga.sort_values(by='rank_test_score').iloc[0].mean_test_score\n",
    "leverage = d2v_pv_dbow_05_saga.sort_values(by='rank_test_score').iloc[0].mean_test_score*100-37.337\n",
    "print(params, score, leverage)"
   ]
  },
  {
   "cell_type": "code",
   "execution_count": 26,
   "metadata": {},
   "outputs": [
    {
     "name": "stdout",
     "output_type": "stream",
     "text": [
      "{'clf__C': 4, 'clf__multi_class': 'ovr', 'clf__n_jobs': -1, 'clf__random_state': 42, 'clf__solver': 'liblinear', 'd2v__dm': 0, 'd2v__iter': 5, 'd2v__seed': 42, 'd2v__size': 300, 'd2v__window': 5, 'd2v__workers': 16} 0.41519173140000004 4.182173140000003\n"
     ]
    }
   ],
   "source": [
    "#DOC2VEC 2\n",
    "params = d2v_pv_dbow_05_lib.sort_values(by='rank_test_score').iloc[0].params\n",
    "score = d2v_pv_dbow_05_lib.sort_values(by='rank_test_score').iloc[0].mean_test_score\n",
    "leverage = d2v_pv_dbow_05_lib.sort_values(by='rank_test_score').iloc[0].mean_test_score*100-37.337\n",
    "print(params, score, leverage)"
   ]
  },
  {
   "cell_type": "code",
   "execution_count": 27,
   "metadata": {},
   "outputs": [
    {
     "name": "stdout",
     "output_type": "stream",
     "text": [
      "{'d2v__workers': 16, 'clf__C': 0.001, 'd2v__iter': 30, 'clf__random_state': 42, 'd2v__size': 300, 'd2v__window': 2, 'd2v__dm': 1, 'clf__multi_class': 'multinomial', 'clf__solver': 'saga', 'd2v__seed': 42} 0.4040603425 3.0690342499999943\n"
     ]
    }
   ],
   "source": [
    "#DOC2VEC 3\n",
    "params = d2v_pv_dm_05_saga.sort_values(by='rank_test_score').iloc[0].params\n",
    "score = d2v_pv_dm_05_saga.sort_values(by='rank_test_score').iloc[0].mean_test_score\n",
    "leverage = d2v_pv_dm_05_saga.sort_values(by='rank_test_score').iloc[0].mean_test_score*100-37.337\n",
    "print(params, score, leverage)"
   ]
  },
  {
   "cell_type": "code",
   "execution_count": 28,
   "metadata": {},
   "outputs": [
    {
     "name": "stdout",
     "output_type": "stream",
     "text": [
      "{'clf__C': 0.001, 'clf__multi_class': 'ovr', 'clf__random_state': 42, 'clf__solver': 'liblinear', 'd2v__dm': 1, 'd2v__iter': 30, 'd2v__seed': 42, 'd2v__size': 300, 'd2v__window': 2, 'd2v__workers': 16} 0.39842554760000004 2.5055547600000025\n"
     ]
    }
   ],
   "source": [
    "#DOC2VEC 4\n",
    "params = d2v_pv_dm_05_lib.sort_values(by='rank_test_score').iloc[0].params\n",
    "score = d2v_pv_dm_05_lib.sort_values(by='rank_test_score').iloc[0].mean_test_score\n",
    "leverage = d2v_pv_dm_05_lib.sort_values(by='rank_test_score').iloc[0].mean_test_score*100-37.337\n",
    "print(params, score, leverage)"
   ]
  }
 ],
 "metadata": {
  "kernelspec": {
   "display_name": "Python 3",
   "language": "python",
   "name": "python3"
  },
  "language_info": {
   "codemirror_mode": {
    "name": "ipython",
    "version": 3
   },
   "file_extension": ".py",
   "mimetype": "text/x-python",
   "name": "python",
   "nbconvert_exporter": "python",
   "pygments_lexer": "ipython3",
   "version": "3.7.3"
  }
 },
 "nbformat": 4,
 "nbformat_minor": 2
}
