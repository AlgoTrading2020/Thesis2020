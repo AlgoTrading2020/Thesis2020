{
 "cells": [
  {
   "cell_type": "code",
   "execution_count": 4,
   "metadata": {},
   "outputs": [],
   "source": [
    "#BERT EXPORT\n",
    "import pandas as pd\n",
    "from sklearn.model_selection import train_test_split\n",
    "\n",
    "dataset_path = './1.0percent_threshold_20200101-20200311.json'\n",
    "\n",
    "dataset_labeled = pd.read_json(dataset_path)\n",
    "\n",
    "bert = pd.DataFrame()\n",
    "\n",
    "bert['index'] = dataset_labeled.index\n",
    "bert['label'] = dataset_labeled.alpha_label\n",
    "bert['random_col'] = 'A'\n",
    "bert['text'] = dataset_labeled.text\n",
    "\n",
    "#train, test_set = train_test_split(bert, train_size = 0.8, stratify = bert['label'], random_state = 0)\n",
    "#dev, test = train_test_split(test_set, train_size = 0.5, stratify = test_set['label'], random_state = 0)\n",
    "test = bert\n",
    "test_labels = test.copy()\n",
    "test_labels.drop(['random_col', 'text'], axis=1, inplace=True)\n",
    "test.drop(['label','random_col'], axis=1, inplace=True)\n",
    "\n",
    "#train.to_csv('train.tsv', sep='\\t', index=False, header=False)\n",
    "#dev.to_csv('dev.tsv', sep='\\t', index=False, header=False)\n",
    "test.to_csv('test.tsv','\\t', index=False)\n",
    "test_labels.to_csv('test_labels.tsv','\\t', index=False)"
   ]
  },
  {
   "cell_type": "code",
   "execution_count": null,
   "metadata": {},
   "outputs": [],
   "source": []
  }
 ],
 "metadata": {
  "kernelspec": {
   "display_name": "Python 3",
   "language": "python",
   "name": "python3"
  },
  "language_info": {
   "codemirror_mode": {
    "name": "ipython",
    "version": 3
   },
   "file_extension": ".py",
   "mimetype": "text/x-python",
   "name": "python",
   "nbconvert_exporter": "python",
   "pygments_lexer": "ipython3",
   "version": "3.7.4"
  }
 },
 "nbformat": 4,
 "nbformat_minor": 2
}
